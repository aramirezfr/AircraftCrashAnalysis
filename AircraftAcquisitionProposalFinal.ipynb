{
 "cells": [
  {
   "cell_type": "markdown",
   "id": "e7aefda7",
   "metadata": {},
   "source": [
    "# Business Understanding"
   ]
  },
  {
   "cell_type": "markdown",
   "id": "ff8e2626",
   "metadata": {},
   "source": [
    "The company is exploring the operation of airplanes for both commercial and private enterprises. This data analysis is designed to assist the company in identifying aircraft with the lowest risk profile, aiding in the informed decision-making process for the initiation of this new business endeavor."
   ]
  },
  {
   "cell_type": "markdown",
   "id": "0d25f115",
   "metadata": {},
   "source": [
    "# Data Understanding"
   ]
  },
  {
   "cell_type": "markdown",
   "id": "c7676268",
   "metadata": {},
   "source": [
    "For this analysis I will be using the [dataset](https://www.kaggle.com/datasets/khsamaha/aviation-accident-database-synopses) from the National Transportation Safety Board that includes aviation accident data from 1962 to 2023 about civil aviation accidents and selected incidents in the United States and international waters."
   ]
  },
  {
   "cell_type": "markdown",
   "id": "ef6d64aa",
   "metadata": {},
   "source": [
    "Within this dataset, my research will be concentrated on identifying the safest airplanes for flight, with a specific emphasis on the latest generations of aircraft models known for their reliability, as opposed to older alternatives. Additionally, my analysis will prioritize assessing accident rates to pinpoint airplanes with a commendable track record of incident-free flights."
   ]
  },
  {
   "cell_type": "markdown",
   "id": "fda7ad16",
   "metadata": {
    "heading_collapsed": true
   },
   "source": [
    "## Exploratory Data Analysis"
   ]
  },
  {
   "cell_type": "code",
   "execution_count": 1,
   "id": "cccd32a3",
   "metadata": {
    "hidden": true
   },
   "outputs": [],
   "source": [
    "#Start by importing the necessary libraries to analyze this data\n",
    "import pandas as pd\n",
    "import numpy as py\n",
    "import matplotlib.pyplot as plt\n",
    "%matplotlib inline\n",
    "import seaborn as sns\n"
   ]
  },
  {
   "cell_type": "code",
   "execution_count": 2,
   "id": "1e3bcda0",
   "metadata": {
    "hidden": true
   },
   "outputs": [],
   "source": [
    "#load the necessary csv dataframe\n",
    "df = pd.read_csv('Aviation_Data.csv',low_memory=False)"
   ]
  },
  {
   "cell_type": "code",
   "execution_count": 3,
   "id": "0b4c43c0",
   "metadata": {
    "hidden": true
   },
   "outputs": [
    {
     "name": "stdout",
     "output_type": "stream",
     "text": [
      "<class 'pandas.core.frame.DataFrame'>\n",
      "RangeIndex: 90348 entries, 0 to 90347\n",
      "Data columns (total 31 columns):\n",
      " #   Column                  Non-Null Count  Dtype  \n",
      "---  ------                  --------------  -----  \n",
      " 0   Event.Id                88889 non-null  object \n",
      " 1   Investigation.Type      90348 non-null  object \n",
      " 2   Accident.Number         88889 non-null  object \n",
      " 3   Event.Date              88889 non-null  object \n",
      " 4   Location                88837 non-null  object \n",
      " 5   Country                 88663 non-null  object \n",
      " 6   Latitude                34382 non-null  object \n",
      " 7   Longitude               34373 non-null  object \n",
      " 8   Airport.Code            50249 non-null  object \n",
      " 9   Airport.Name            52790 non-null  object \n",
      " 10  Injury.Severity         87889 non-null  object \n",
      " 11  Aircraft.damage         85695 non-null  object \n",
      " 12  Aircraft.Category       32287 non-null  object \n",
      " 13  Registration.Number     87572 non-null  object \n",
      " 14  Make                    88826 non-null  object \n",
      " 15  Model                   88797 non-null  object \n",
      " 16  Amateur.Built           88787 non-null  object \n",
      " 17  Number.of.Engines       82805 non-null  float64\n",
      " 18  Engine.Type             81812 non-null  object \n",
      " 19  FAR.Description         32023 non-null  object \n",
      " 20  Schedule                12582 non-null  object \n",
      " 21  Purpose.of.flight       82697 non-null  object \n",
      " 22  Air.carrier             16648 non-null  object \n",
      " 23  Total.Fatal.Injuries    77488 non-null  float64\n",
      " 24  Total.Serious.Injuries  76379 non-null  float64\n",
      " 25  Total.Minor.Injuries    76956 non-null  float64\n",
      " 26  Total.Uninjured         82977 non-null  float64\n",
      " 27  Weather.Condition       84397 non-null  object \n",
      " 28  Broad.phase.of.flight   61724 non-null  object \n",
      " 29  Report.Status           82508 non-null  object \n",
      " 30  Publication.Date        73659 non-null  object \n",
      "dtypes: float64(5), object(26)\n",
      "memory usage: 21.4+ MB\n"
     ]
    },
    {
     "data": {
      "text/plain": [
       "(90348, 31)"
      ]
     },
     "execution_count": 3,
     "metadata": {},
     "output_type": "execute_result"
    }
   ],
   "source": [
    "#Exploring the columns, size and content of the dataframe\n",
    "#90,348 rows x 31 columns\n",
    "df.info()\n",
    "df.shape"
   ]
  },
  {
   "cell_type": "code",
   "execution_count": 4,
   "id": "c7077b36",
   "metadata": {
    "hidden": true,
    "scrolled": false
   },
   "outputs": [
    {
     "data": {
      "text/html": [
       "<div>\n",
       "<style scoped>\n",
       "    .dataframe tbody tr th:only-of-type {\n",
       "        vertical-align: middle;\n",
       "    }\n",
       "\n",
       "    .dataframe tbody tr th {\n",
       "        vertical-align: top;\n",
       "    }\n",
       "\n",
       "    .dataframe thead th {\n",
       "        text-align: right;\n",
       "    }\n",
       "</style>\n",
       "<table border=\"1\" class=\"dataframe\">\n",
       "  <thead>\n",
       "    <tr style=\"text-align: right;\">\n",
       "      <th></th>\n",
       "      <th>Event.Id</th>\n",
       "      <th>Investigation.Type</th>\n",
       "      <th>Accident.Number</th>\n",
       "      <th>Event.Date</th>\n",
       "      <th>Location</th>\n",
       "      <th>Country</th>\n",
       "      <th>Latitude</th>\n",
       "      <th>Longitude</th>\n",
       "      <th>Airport.Code</th>\n",
       "      <th>Airport.Name</th>\n",
       "      <th>...</th>\n",
       "      <th>Purpose.of.flight</th>\n",
       "      <th>Air.carrier</th>\n",
       "      <th>Total.Fatal.Injuries</th>\n",
       "      <th>Total.Serious.Injuries</th>\n",
       "      <th>Total.Minor.Injuries</th>\n",
       "      <th>Total.Uninjured</th>\n",
       "      <th>Weather.Condition</th>\n",
       "      <th>Broad.phase.of.flight</th>\n",
       "      <th>Report.Status</th>\n",
       "      <th>Publication.Date</th>\n",
       "    </tr>\n",
       "  </thead>\n",
       "  <tbody>\n",
       "    <tr>\n",
       "      <th>0</th>\n",
       "      <td>20001218X45444</td>\n",
       "      <td>Accident</td>\n",
       "      <td>SEA87LA080</td>\n",
       "      <td>1948-10-24</td>\n",
       "      <td>MOOSE CREEK, ID</td>\n",
       "      <td>United States</td>\n",
       "      <td>NaN</td>\n",
       "      <td>NaN</td>\n",
       "      <td>NaN</td>\n",
       "      <td>NaN</td>\n",
       "      <td>...</td>\n",
       "      <td>Personal</td>\n",
       "      <td>NaN</td>\n",
       "      <td>2.0</td>\n",
       "      <td>0.0</td>\n",
       "      <td>0.0</td>\n",
       "      <td>0.0</td>\n",
       "      <td>UNK</td>\n",
       "      <td>Cruise</td>\n",
       "      <td>Probable Cause</td>\n",
       "      <td>NaN</td>\n",
       "    </tr>\n",
       "    <tr>\n",
       "      <th>1</th>\n",
       "      <td>20001218X45447</td>\n",
       "      <td>Accident</td>\n",
       "      <td>LAX94LA336</td>\n",
       "      <td>1962-07-19</td>\n",
       "      <td>BRIDGEPORT, CA</td>\n",
       "      <td>United States</td>\n",
       "      <td>NaN</td>\n",
       "      <td>NaN</td>\n",
       "      <td>NaN</td>\n",
       "      <td>NaN</td>\n",
       "      <td>...</td>\n",
       "      <td>Personal</td>\n",
       "      <td>NaN</td>\n",
       "      <td>4.0</td>\n",
       "      <td>0.0</td>\n",
       "      <td>0.0</td>\n",
       "      <td>0.0</td>\n",
       "      <td>UNK</td>\n",
       "      <td>Unknown</td>\n",
       "      <td>Probable Cause</td>\n",
       "      <td>19-09-1996</td>\n",
       "    </tr>\n",
       "    <tr>\n",
       "      <th>2</th>\n",
       "      <td>20061025X01555</td>\n",
       "      <td>Accident</td>\n",
       "      <td>NYC07LA005</td>\n",
       "      <td>1974-08-30</td>\n",
       "      <td>Saltville, VA</td>\n",
       "      <td>United States</td>\n",
       "      <td>36.922223</td>\n",
       "      <td>-81.878056</td>\n",
       "      <td>NaN</td>\n",
       "      <td>NaN</td>\n",
       "      <td>...</td>\n",
       "      <td>Personal</td>\n",
       "      <td>NaN</td>\n",
       "      <td>3.0</td>\n",
       "      <td>NaN</td>\n",
       "      <td>NaN</td>\n",
       "      <td>NaN</td>\n",
       "      <td>IMC</td>\n",
       "      <td>Cruise</td>\n",
       "      <td>Probable Cause</td>\n",
       "      <td>26-02-2007</td>\n",
       "    </tr>\n",
       "    <tr>\n",
       "      <th>3</th>\n",
       "      <td>20001218X45448</td>\n",
       "      <td>Accident</td>\n",
       "      <td>LAX96LA321</td>\n",
       "      <td>1977-06-19</td>\n",
       "      <td>EUREKA, CA</td>\n",
       "      <td>United States</td>\n",
       "      <td>NaN</td>\n",
       "      <td>NaN</td>\n",
       "      <td>NaN</td>\n",
       "      <td>NaN</td>\n",
       "      <td>...</td>\n",
       "      <td>Personal</td>\n",
       "      <td>NaN</td>\n",
       "      <td>2.0</td>\n",
       "      <td>0.0</td>\n",
       "      <td>0.0</td>\n",
       "      <td>0.0</td>\n",
       "      <td>IMC</td>\n",
       "      <td>Cruise</td>\n",
       "      <td>Probable Cause</td>\n",
       "      <td>12-09-2000</td>\n",
       "    </tr>\n",
       "    <tr>\n",
       "      <th>4</th>\n",
       "      <td>20041105X01764</td>\n",
       "      <td>Accident</td>\n",
       "      <td>CHI79FA064</td>\n",
       "      <td>1979-08-02</td>\n",
       "      <td>Canton, OH</td>\n",
       "      <td>United States</td>\n",
       "      <td>NaN</td>\n",
       "      <td>NaN</td>\n",
       "      <td>NaN</td>\n",
       "      <td>NaN</td>\n",
       "      <td>...</td>\n",
       "      <td>Personal</td>\n",
       "      <td>NaN</td>\n",
       "      <td>1.0</td>\n",
       "      <td>2.0</td>\n",
       "      <td>NaN</td>\n",
       "      <td>0.0</td>\n",
       "      <td>VMC</td>\n",
       "      <td>Approach</td>\n",
       "      <td>Probable Cause</td>\n",
       "      <td>16-04-1980</td>\n",
       "    </tr>\n",
       "    <tr>\n",
       "      <th>5</th>\n",
       "      <td>20170710X52551</td>\n",
       "      <td>Accident</td>\n",
       "      <td>NYC79AA106</td>\n",
       "      <td>1979-09-17</td>\n",
       "      <td>BOSTON, MA</td>\n",
       "      <td>United States</td>\n",
       "      <td>42.445277</td>\n",
       "      <td>-70.758333</td>\n",
       "      <td>NaN</td>\n",
       "      <td>NaN</td>\n",
       "      <td>...</td>\n",
       "      <td>NaN</td>\n",
       "      <td>Air Canada</td>\n",
       "      <td>NaN</td>\n",
       "      <td>NaN</td>\n",
       "      <td>1.0</td>\n",
       "      <td>44.0</td>\n",
       "      <td>VMC</td>\n",
       "      <td>Climb</td>\n",
       "      <td>Probable Cause</td>\n",
       "      <td>19-09-2017</td>\n",
       "    </tr>\n",
       "    <tr>\n",
       "      <th>6</th>\n",
       "      <td>20001218X45446</td>\n",
       "      <td>Accident</td>\n",
       "      <td>CHI81LA106</td>\n",
       "      <td>1981-08-01</td>\n",
       "      <td>COTTON, MN</td>\n",
       "      <td>United States</td>\n",
       "      <td>NaN</td>\n",
       "      <td>NaN</td>\n",
       "      <td>NaN</td>\n",
       "      <td>NaN</td>\n",
       "      <td>...</td>\n",
       "      <td>Personal</td>\n",
       "      <td>NaN</td>\n",
       "      <td>4.0</td>\n",
       "      <td>0.0</td>\n",
       "      <td>0.0</td>\n",
       "      <td>0.0</td>\n",
       "      <td>IMC</td>\n",
       "      <td>Unknown</td>\n",
       "      <td>Probable Cause</td>\n",
       "      <td>06-11-2001</td>\n",
       "    </tr>\n",
       "    <tr>\n",
       "      <th>7</th>\n",
       "      <td>20020909X01562</td>\n",
       "      <td>Accident</td>\n",
       "      <td>SEA82DA022</td>\n",
       "      <td>1982-01-01</td>\n",
       "      <td>PULLMAN, WA</td>\n",
       "      <td>United States</td>\n",
       "      <td>NaN</td>\n",
       "      <td>NaN</td>\n",
       "      <td>NaN</td>\n",
       "      <td>BLACKBURN AG STRIP</td>\n",
       "      <td>...</td>\n",
       "      <td>Personal</td>\n",
       "      <td>NaN</td>\n",
       "      <td>0.0</td>\n",
       "      <td>0.0</td>\n",
       "      <td>0.0</td>\n",
       "      <td>2.0</td>\n",
       "      <td>VMC</td>\n",
       "      <td>Takeoff</td>\n",
       "      <td>Probable Cause</td>\n",
       "      <td>01-01-1982</td>\n",
       "    </tr>\n",
       "    <tr>\n",
       "      <th>8</th>\n",
       "      <td>20020909X01561</td>\n",
       "      <td>Accident</td>\n",
       "      <td>NYC82DA015</td>\n",
       "      <td>1982-01-01</td>\n",
       "      <td>EAST HANOVER, NJ</td>\n",
       "      <td>United States</td>\n",
       "      <td>NaN</td>\n",
       "      <td>NaN</td>\n",
       "      <td>N58</td>\n",
       "      <td>HANOVER</td>\n",
       "      <td>...</td>\n",
       "      <td>Business</td>\n",
       "      <td>NaN</td>\n",
       "      <td>0.0</td>\n",
       "      <td>0.0</td>\n",
       "      <td>0.0</td>\n",
       "      <td>2.0</td>\n",
       "      <td>IMC</td>\n",
       "      <td>Landing</td>\n",
       "      <td>Probable Cause</td>\n",
       "      <td>01-01-1982</td>\n",
       "    </tr>\n",
       "    <tr>\n",
       "      <th>9</th>\n",
       "      <td>20020909X01560</td>\n",
       "      <td>Accident</td>\n",
       "      <td>MIA82DA029</td>\n",
       "      <td>1982-01-01</td>\n",
       "      <td>JACKSONVILLE, FL</td>\n",
       "      <td>United States</td>\n",
       "      <td>NaN</td>\n",
       "      <td>NaN</td>\n",
       "      <td>JAX</td>\n",
       "      <td>JACKSONVILLE INTL</td>\n",
       "      <td>...</td>\n",
       "      <td>Personal</td>\n",
       "      <td>NaN</td>\n",
       "      <td>0.0</td>\n",
       "      <td>0.0</td>\n",
       "      <td>3.0</td>\n",
       "      <td>0.0</td>\n",
       "      <td>IMC</td>\n",
       "      <td>Cruise</td>\n",
       "      <td>Probable Cause</td>\n",
       "      <td>01-01-1982</td>\n",
       "    </tr>\n",
       "  </tbody>\n",
       "</table>\n",
       "<p>10 rows × 31 columns</p>\n",
       "</div>"
      ],
      "text/plain": [
       "         Event.Id Investigation.Type Accident.Number  Event.Date  \\\n",
       "0  20001218X45444           Accident      SEA87LA080  1948-10-24   \n",
       "1  20001218X45447           Accident      LAX94LA336  1962-07-19   \n",
       "2  20061025X01555           Accident      NYC07LA005  1974-08-30   \n",
       "3  20001218X45448           Accident      LAX96LA321  1977-06-19   \n",
       "4  20041105X01764           Accident      CHI79FA064  1979-08-02   \n",
       "5  20170710X52551           Accident      NYC79AA106  1979-09-17   \n",
       "6  20001218X45446           Accident      CHI81LA106  1981-08-01   \n",
       "7  20020909X01562           Accident      SEA82DA022  1982-01-01   \n",
       "8  20020909X01561           Accident      NYC82DA015  1982-01-01   \n",
       "9  20020909X01560           Accident      MIA82DA029  1982-01-01   \n",
       "\n",
       "           Location        Country   Latitude   Longitude Airport.Code  \\\n",
       "0   MOOSE CREEK, ID  United States        NaN         NaN          NaN   \n",
       "1    BRIDGEPORT, CA  United States        NaN         NaN          NaN   \n",
       "2     Saltville, VA  United States  36.922223  -81.878056          NaN   \n",
       "3        EUREKA, CA  United States        NaN         NaN          NaN   \n",
       "4        Canton, OH  United States        NaN         NaN          NaN   \n",
       "5        BOSTON, MA  United States  42.445277  -70.758333          NaN   \n",
       "6        COTTON, MN  United States        NaN         NaN          NaN   \n",
       "7       PULLMAN, WA  United States        NaN         NaN          NaN   \n",
       "8  EAST HANOVER, NJ  United States        NaN         NaN          N58   \n",
       "9  JACKSONVILLE, FL  United States        NaN         NaN          JAX   \n",
       "\n",
       "         Airport.Name  ... Purpose.of.flight Air.carrier Total.Fatal.Injuries  \\\n",
       "0                 NaN  ...          Personal         NaN                  2.0   \n",
       "1                 NaN  ...          Personal         NaN                  4.0   \n",
       "2                 NaN  ...          Personal         NaN                  3.0   \n",
       "3                 NaN  ...          Personal         NaN                  2.0   \n",
       "4                 NaN  ...          Personal         NaN                  1.0   \n",
       "5                 NaN  ...               NaN  Air Canada                  NaN   \n",
       "6                 NaN  ...          Personal         NaN                  4.0   \n",
       "7  BLACKBURN AG STRIP  ...          Personal         NaN                  0.0   \n",
       "8             HANOVER  ...          Business         NaN                  0.0   \n",
       "9   JACKSONVILLE INTL  ...          Personal         NaN                  0.0   \n",
       "\n",
       "  Total.Serious.Injuries Total.Minor.Injuries Total.Uninjured  \\\n",
       "0                    0.0                  0.0             0.0   \n",
       "1                    0.0                  0.0             0.0   \n",
       "2                    NaN                  NaN             NaN   \n",
       "3                    0.0                  0.0             0.0   \n",
       "4                    2.0                  NaN             0.0   \n",
       "5                    NaN                  1.0            44.0   \n",
       "6                    0.0                  0.0             0.0   \n",
       "7                    0.0                  0.0             2.0   \n",
       "8                    0.0                  0.0             2.0   \n",
       "9                    0.0                  3.0             0.0   \n",
       "\n",
       "  Weather.Condition  Broad.phase.of.flight   Report.Status Publication.Date  \n",
       "0               UNK                 Cruise  Probable Cause              NaN  \n",
       "1               UNK                Unknown  Probable Cause       19-09-1996  \n",
       "2               IMC                 Cruise  Probable Cause       26-02-2007  \n",
       "3               IMC                 Cruise  Probable Cause       12-09-2000  \n",
       "4               VMC               Approach  Probable Cause       16-04-1980  \n",
       "5               VMC                  Climb  Probable Cause       19-09-2017  \n",
       "6               IMC                Unknown  Probable Cause       06-11-2001  \n",
       "7               VMC                Takeoff  Probable Cause       01-01-1982  \n",
       "8               IMC                Landing  Probable Cause       01-01-1982  \n",
       "9               IMC                 Cruise  Probable Cause       01-01-1982  \n",
       "\n",
       "[10 rows x 31 columns]"
      ]
     },
     "execution_count": 4,
     "metadata": {},
     "output_type": "execute_result"
    }
   ],
   "source": [
    "#getting a first look of how the dataframe looks on the first 10 rows\n",
    "df.head(10)"
   ]
  },
  {
   "cell_type": "markdown",
   "id": "6e16f0ca",
   "metadata": {},
   "source": [
    "## Data Cleaning"
   ]
  },
  {
   "cell_type": "code",
   "execution_count": 5,
   "id": "a8c03189",
   "metadata": {},
   "outputs": [],
   "source": [
    "#checking if there is any duplicates in the event id column and in accident number column\n",
    "#we do not these duolicates of these values\n",
    "df.duplicated(subset='Event.Id').value_counts()\n",
    "df=df.drop_duplicates(subset='Event.Id')\n",
    "df=df.drop_duplicates(subset='Accident.Number')"
   ]
  },
  {
   "cell_type": "code",
   "execution_count": 6,
   "id": "0513fdfe",
   "metadata": {},
   "outputs": [
    {
     "data": {
      "text/plain": [
       "(87952, 31)"
      ]
     },
     "execution_count": 6,
     "metadata": {},
     "output_type": "execute_result"
    }
   ],
   "source": [
    "#the dataset now contains 87,952 rows\n",
    "df.shape"
   ]
  },
  {
   "cell_type": "code",
   "execution_count": 7,
   "id": "676c349d",
   "metadata": {
    "scrolled": true
   },
   "outputs": [
    {
     "data": {
      "text/plain": [
       "0       1948-10-24\n",
       "1       1962-07-19\n",
       "2       1974-08-30\n",
       "3       1977-06-19\n",
       "4       1979-08-02\n",
       "           ...    \n",
       "90343   2022-12-26\n",
       "90344   2022-12-26\n",
       "90345   2022-12-26\n",
       "90346   2022-12-26\n",
       "90347   2022-12-29\n",
       "Name: Event.Date, Length: 87952, dtype: datetime64[ns]"
      ]
     },
     "execution_count": 7,
     "metadata": {},
     "output_type": "execute_result"
    }
   ],
   "source": [
    "#changing the date to date time, this will help to identify the \n",
    "#newer aircrafts\n",
    "df['Event.Date']=pd.to_datetime(df['Event.Date'])\n",
    "df['Event.Date']"
   ]
  },
  {
   "cell_type": "code",
   "execution_count": 8,
   "id": "f3a6c8ec",
   "metadata": {},
   "outputs": [],
   "source": [
    "#creating a new column 'event month year' that contains only the month and year of event\n",
    "df['Event.Month.Year']=df['Event.Date'].dt.strftime('%m-%Y')"
   ]
  },
  {
   "cell_type": "code",
   "execution_count": 9,
   "id": "a1bc4240",
   "metadata": {},
   "outputs": [],
   "source": [
    "#creating new columns for only month and year from the event date column\n",
    "df['Event.Month']=df['Event.Date'].dt.month\n",
    "df['Event.Year']=df['Event.Date'].dt.year"
   ]
  },
  {
   "cell_type": "code",
   "execution_count": 10,
   "id": "b23fb6ce",
   "metadata": {},
   "outputs": [
    {
     "data": {
      "text/plain": [
       "Event.Id                      1\n",
       "Investigation.Type            0\n",
       "Accident.Number               1\n",
       "Event.Date                    1\n",
       "Location                     53\n",
       "Country                     223\n",
       "Latitude                  53740\n",
       "Longitude                 53749\n",
       "Airport.Code              38351\n",
       "Airport.Name              35835\n",
       "Injury.Severity             991\n",
       "Aircraft.damage            3104\n",
       "Aircraft.Category         55771\n",
       "Registration.Number        1286\n",
       "Make                         64\n",
       "Model                        93\n",
       "Amateur.Built               101\n",
       "Number.of.Engines          6028\n",
       "Engine.Type                7025\n",
       "FAR.Description           56037\n",
       "Schedule                  75592\n",
       "Purpose.of.flight          6123\n",
       "Air.carrier               71419\n",
       "Total.Fatal.Injuries      11268\n",
       "Total.Serious.Injuries    12323\n",
       "Total.Minor.Injuries      11761\n",
       "Total.Uninjured            5864\n",
       "Weather.Condition          4474\n",
       "Broad.phase.of.flight     27115\n",
       "Report.Status              6362\n",
       "Publication.Date          15058\n",
       "Event.Month.Year              1\n",
       "Event.Month                   1\n",
       "Event.Year                    1\n",
       "dtype: int64"
      ]
     },
     "execution_count": 10,
     "metadata": {},
     "output_type": "execute_result"
    }
   ],
   "source": [
    "#exploring the quantity of na in the dataframe per column\n",
    "df.isna().sum()"
   ]
  },
  {
   "cell_type": "markdown",
   "id": "f698818b",
   "metadata": {},
   "source": [
    "Given that there are too many NaN values, I will create a subset with the necessary columns for my analysis."
   ]
  },
  {
   "cell_type": "code",
   "execution_count": 11,
   "id": "3b67cad2",
   "metadata": {},
   "outputs": [],
   "source": [
    "#Creating a new data frame with only the columns needed to use and to be cleanes:Month and year of events, \n",
    "#Location, Country, Make, Model, Purpose of flight, Weather conditions\n",
    "#Aircraft category, damage, injury severity, total fatal injuries, serious and minor injuries, total injured, \n",
    "#number of engines, engine type.\n",
    "\n",
    "df_clean = df[['Event.Month', 'Event.Year','Location','Country','Make', 'Model', 'Purpose.of.flight', 'Weather.Condition','Aircraft.Category','Aircraft.damage','Injury.Severity' ,'Total.Fatal.Injuries', 'Total.Serious.Injuries','Total.Minor.Injuries', 'Total.Uninjured', 'Number.of.Engines', 'Engine.Type',  ]]"
   ]
  },
  {
   "cell_type": "code",
   "execution_count": 12,
   "id": "9c6624f8",
   "metadata": {},
   "outputs": [],
   "source": [
    "#Filtering events that happened between 1999 and 2022\n",
    "df_clean=df_clean[(df_clean['Event.Year']>=1999)&(df_clean['Event.Year']<=2022)]"
   ]
  },
  {
   "cell_type": "code",
   "execution_count": 13,
   "id": "cc8a7c4b",
   "metadata": {},
   "outputs": [
    {
     "data": {
      "text/plain": [
       "(43146, 17)"
      ]
     },
     "execution_count": 13,
     "metadata": {},
     "output_type": "execute_result"
    }
   ],
   "source": [
    "#after filtering most recent accidents, 43,146 rows are left\n",
    "df_clean.shape"
   ]
  },
  {
   "cell_type": "code",
   "execution_count": 14,
   "id": "1d762c68",
   "metadata": {},
   "outputs": [],
   "source": [
    "#Adding the title. format to these columns to match the same values and avoid repetition\n",
    "df_clean['Make']=df_clean['Make'].str.title()\n",
    "df_clean['Country']=df_clean['Country'].str.title()\n",
    "df_clean['Location']=df_clean['Location'].str.title()"
   ]
  },
  {
   "cell_type": "code",
   "execution_count": 15,
   "id": "6679c355",
   "metadata": {},
   "outputs": [
    {
     "data": {
      "text/plain": [
       "Event.Month                   0\n",
       "Event.Year                    0\n",
       "Location                     19\n",
       "Country                      26\n",
       "Make                         55\n",
       "Model                        69\n",
       "Purpose.of.flight          6044\n",
       "Weather.Condition          4458\n",
       "Aircraft.Category         14732\n",
       "Aircraft.damage            2084\n",
       "Injury.Severity             990\n",
       "Total.Fatal.Injuries      11000\n",
       "Total.Serious.Injuries    11980\n",
       "Total.Minor.Injuries      11412\n",
       "Total.Uninjured            5631\n",
       "Number.of.Engines          5066\n",
       "Engine.Type                7011\n",
       "dtype: int64"
      ]
     },
     "execution_count": 15,
     "metadata": {},
     "output_type": "execute_result"
    }
   ],
   "source": [
    "#checking for NaN values in the new subset df_clean \n",
    "df_clean.isna().sum()"
   ]
  },
  {
   "cell_type": "code",
   "execution_count": 16,
   "id": "fa6fc23c",
   "metadata": {},
   "outputs": [],
   "source": [
    "#out of the 100% of rows (43,423) only rows with less than 3% NaN values will be dropped\n",
    "df_clean = df_clean.dropna(subset=['Location', 'Country', 'Make', 'Model', 'Injury.Severity'])"
   ]
  },
  {
   "cell_type": "code",
   "execution_count": 17,
   "id": "b81f5bde",
   "metadata": {},
   "outputs": [
    {
     "data": {
      "text/plain": [
       "Event.Month                   0\n",
       "Event.Year                    0\n",
       "Location                      0\n",
       "Country                       0\n",
       "Make                          0\n",
       "Model                         0\n",
       "Purpose.of.flight          5057\n",
       "Weather.Condition          3510\n",
       "Aircraft.Category         14538\n",
       "Aircraft.damage            1566\n",
       "Injury.Severity               0\n",
       "Total.Fatal.Injuries      10969\n",
       "Total.Serious.Injuries    11942\n",
       "Total.Minor.Injuries      11374\n",
       "Total.Uninjured            5603\n",
       "Number.of.Engines          4298\n",
       "Engine.Type                6154\n",
       "dtype: int64"
      ]
     },
     "execution_count": 17,
     "metadata": {},
     "output_type": "execute_result"
    }
   ],
   "source": [
    "#checking again for clean data\n",
    "df_clean.isna().sum()"
   ]
  },
  {
   "cell_type": "code",
   "execution_count": 18,
   "id": "4a9fcf3b",
   "metadata": {
    "scrolled": true
   },
   "outputs": [
    {
     "data": {
      "text/plain": [
       "(42052, 17)"
      ]
     },
     "execution_count": 18,
     "metadata": {},
     "output_type": "execute_result"
    }
   ],
   "source": [
    "#after dropping the columns with 3% NaN, there are 42,052 rows left.\n",
    "df_clean.shape"
   ]
  },
  {
   "cell_type": "markdown",
   "id": "9aff723c",
   "metadata": {},
   "source": [
    "Starting Data cleaning per column:"
   ]
  },
  {
   "cell_type": "code",
   "execution_count": 19,
   "id": "dc744cfc",
   "metadata": {},
   "outputs": [],
   "source": [
    "#only keeping flights that are of 'personal and business purpose', they are the most populated values\n",
    "df_clean['Purpose.of.flight'] = df_clean['Purpose.of.flight'].map(str)\n",
    "df_clean['Purpose.of.flight'] = df_clean['Purpose.of.flight'].apply(lambda x: x if x in ['Personal', 'Business'] else None)"
   ]
  },
  {
   "cell_type": "code",
   "execution_count": 20,
   "id": "7f9d59a3",
   "metadata": {},
   "outputs": [],
   "source": [
    "#replacing the NaN values of 'Purpose of flight' with the most common value 'Personal'\n",
    "df_clean['Purpose.of.flight']=df_clean['Purpose.of.flight'].fillna('Personal')"
   ]
  },
  {
   "cell_type": "code",
   "execution_count": 21,
   "id": "7a7d0b36",
   "metadata": {},
   "outputs": [
    {
     "data": {
      "text/plain": [
       "Personal    40871\n",
       "Business     1181\n",
       "Name: Purpose.of.flight, dtype: int64"
      ]
     },
     "execution_count": 21,
     "metadata": {},
     "output_type": "execute_result"
    }
   ],
   "source": [
    "#checking the values and the counts in the column 'Purpose of Flight'\n",
    "df_clean['Purpose.of.flight'].value_counts()"
   ]
  },
  {
   "cell_type": "code",
   "execution_count": 22,
   "id": "252c3e6d",
   "metadata": {},
   "outputs": [],
   "source": [
    "#Cleaning the 'weather condition' column\n",
    "#I combined the value Unk and UNK to one value UNK\n",
    "df_clean['Weather.Condition']=df_clean['Weather.Condition'].str.upper()"
   ]
  },
  {
   "cell_type": "code",
   "execution_count": 23,
   "id": "91009427",
   "metadata": {
    "scrolled": false
   },
   "outputs": [
    {
     "data": {
      "text/plain": [
       "VMC    35914\n",
       "IMC     2274\n",
       "UNK      354\n",
       "Name: Weather.Condition, dtype: int64"
      ]
     },
     "execution_count": 23,
     "metadata": {},
     "output_type": "execute_result"
    }
   ],
   "source": [
    "#checking the values and the counts in the column 'weather condition'\n",
    "df_clean['Weather.Condition'].value_counts()"
   ]
  },
  {
   "cell_type": "code",
   "execution_count": 24,
   "id": "2e5e391a",
   "metadata": {},
   "outputs": [],
   "source": [
    "#replacing NaN with the most common value 'VMC' in the column 'weather condition'\n",
    "df_clean['Weather.Condition']=df_clean['Weather.Condition'].fillna('VMC')"
   ]
  },
  {
   "cell_type": "code",
   "execution_count": 25,
   "id": "ff1a26fb",
   "metadata": {},
   "outputs": [],
   "source": [
    "#In the 'aircraft category' column I filter to the only value what we need for this analysis which is 'airplanes'\n",
    "df_clean['Aircraft.Category']=df_clean['Aircraft.Category'].map(str)\n",
    "df_clean['Aircraft.Category']=df_clean['Aircraft.Category'].apply(lambda x: x if x in ['Airplane']else None)"
   ]
  },
  {
   "cell_type": "code",
   "execution_count": 26,
   "id": "5fe6e18d",
   "metadata": {},
   "outputs": [
    {
     "data": {
      "text/plain": [
       "Airplane    23336\n",
       "Name: Aircraft.Category, dtype: int64"
      ]
     },
     "execution_count": 26,
     "metadata": {},
     "output_type": "execute_result"
    }
   ],
   "source": [
    "#checking the values and the counts in the column 'Aircraft Category'\n",
    "df_clean['Aircraft.Category'].value_counts()"
   ]
  },
  {
   "cell_type": "code",
   "execution_count": 27,
   "id": "2647d77f",
   "metadata": {},
   "outputs": [],
   "source": [
    "#replacing NaN with the most common value in the column 'Airplane Category'\n",
    "df_clean['Aircraft.Category']=df_clean['Aircraft.Category'].fillna('Airplane')"
   ]
  },
  {
   "cell_type": "code",
   "execution_count": 28,
   "id": "4befd4d8",
   "metadata": {},
   "outputs": [
    {
     "data": {
      "text/plain": [
       "Airplane    42052\n",
       "Name: Aircraft.Category, dtype: int64"
      ]
     },
     "execution_count": 28,
     "metadata": {},
     "output_type": "execute_result"
    }
   ],
   "source": [
    "#checking again the values and the counts in the column 'Aircraft Category'\n",
    "df_clean['Aircraft.Category'].value_counts()"
   ]
  },
  {
   "cell_type": "code",
   "execution_count": 29,
   "id": "86ce08aa",
   "metadata": {},
   "outputs": [],
   "source": [
    "#dropping the NaN values in the 'aircraft damage' column because of the low percentage of rows with NaN (3.6%)\n",
    "df_clean = df_clean.dropna(subset=['Aircraft.damage'])"
   ]
  },
  {
   "cell_type": "code",
   "execution_count": 30,
   "id": "7c487342",
   "metadata": {},
   "outputs": [
    {
     "data": {
      "text/plain": [
       "Substantial    33020\n",
       "Destroyed       6227\n",
       "Minor           1147\n",
       "Unknown           92\n",
       "Name: Aircraft.damage, dtype: int64"
      ]
     },
     "execution_count": 30,
     "metadata": {},
     "output_type": "execute_result"
    }
   ],
   "source": [
    "#checking the values and the counts in the column 'Aircraft damage'\n",
    "df_clean['Aircraft.damage'].value_counts()"
   ]
  },
  {
   "cell_type": "code",
   "execution_count": 31,
   "id": "02fcbaee",
   "metadata": {},
   "outputs": [
    {
     "data": {
      "text/plain": [
       "0.0      21114\n",
       "1.0       4405\n",
       "2.0       2535\n",
       "3.0        777\n",
       "4.0        509\n",
       "         ...  \n",
       "58.0         1\n",
       "239.0        1\n",
       "33.0         1\n",
       "265.0        1\n",
       "162.0        1\n",
       "Name: Total.Fatal.Injuries, Length: 94, dtype: int64"
      ]
     },
     "execution_count": 31,
     "metadata": {},
     "output_type": "execute_result"
    }
   ],
   "source": [
    "#Starting to analyze the 'Total Fatal Injuries' column\n",
    "df_clean['Total.Fatal.Injuries'].value_counts()"
   ]
  },
  {
   "cell_type": "code",
   "execution_count": 32,
   "id": "976b7cfc",
   "metadata": {},
   "outputs": [
    {
     "data": {
      "text/plain": [
       "0.8849456975772765"
      ]
     },
     "execution_count": 32,
     "metadata": {},
     "output_type": "execute_result"
    }
   ],
   "source": [
    "#cleaning the column 'Total.Fatal.Injuries' \n",
    "#checking the mean of the fatal injuries to fill the NaN values with that number\n",
    "df_clean['Total.Fatal.Injuries'].mean()"
   ]
  },
  {
   "cell_type": "code",
   "execution_count": 33,
   "id": "fbcfad64",
   "metadata": {},
   "outputs": [],
   "source": [
    "#using the mean of the 'fatal injuries column' to fill the NaN values, using 1 as the mean\n",
    "df_clean['Total.Fatal.Injuries']=df_clean['Total.Fatal.Injuries'].fillna(1)"
   ]
  },
  {
   "cell_type": "code",
   "execution_count": 34,
   "id": "501671a2",
   "metadata": {},
   "outputs": [
    {
     "data": {
      "text/plain": [
       "0.3733199041433682"
      ]
     },
     "execution_count": 34,
     "metadata": {},
     "output_type": "execute_result"
    }
   ],
   "source": [
    "#cleaning the col 'Total.Serious.Injuries'\n",
    "#checking the mean of the 'serious injuries' to fill the NaN values, using 0 as the mean\n",
    "df_clean['Total.Serious.Injuries'].mean()"
   ]
  },
  {
   "cell_type": "code",
   "execution_count": 35,
   "id": "cfc542e9",
   "metadata": {},
   "outputs": [],
   "source": [
    "#changing the mean of the 'total serious injuries' column to fill the NaN values, using 0 as the mean\n",
    "df_clean['Total.Serious.Injuries']=df_clean['Total.Serious.Injuries'].fillna(0)"
   ]
  },
  {
   "cell_type": "code",
   "execution_count": 36,
   "id": "7986cc68",
   "metadata": {},
   "outputs": [
    {
     "data": {
      "text/plain": [
       "0.36914936914936913"
      ]
     },
     "execution_count": 36,
     "metadata": {},
     "output_type": "execute_result"
    }
   ],
   "source": [
    "#cleaning the column 'Total.Minor.Injuries' \n",
    "#checking the mean to fill the NaN values\n",
    "df_clean['Total.Minor.Injuries'].mean()"
   ]
  },
  {
   "cell_type": "code",
   "execution_count": 37,
   "id": "01657119",
   "metadata": {},
   "outputs": [],
   "source": [
    "#replacing NaN with mean 0 in the column 'Total.Minor.Injuries'\n",
    "df_clean['Total.Minor.Injuries']=df_clean['Total.Minor.Injuries'].fillna(0)"
   ]
  },
  {
   "cell_type": "code",
   "execution_count": 38,
   "id": "8346506d",
   "metadata": {},
   "outputs": [
    {
     "data": {
      "text/plain": [
       "3.9787185354691075"
      ]
     },
     "execution_count": 38,
     "metadata": {},
     "output_type": "execute_result"
    }
   ],
   "source": [
    "#cleaning the column 'Total.Uninjured' \n",
    "#checking the mean to fill the NaN values\n",
    "df_clean['Total.Uninjured'].mean()"
   ]
  },
  {
   "cell_type": "code",
   "execution_count": 39,
   "id": "5794515d",
   "metadata": {},
   "outputs": [],
   "source": [
    "#replacing NaN with mean 4 in the column 'Total.Minor.Injuries'\n",
    "df_clean['Total.Uninjured']=df_clean['Total.Uninjured'].fillna(4)"
   ]
  },
  {
   "cell_type": "code",
   "execution_count": 40,
   "id": "e40e784c",
   "metadata": {},
   "outputs": [
    {
     "data": {
      "text/plain": [
       "1.1162013903975667"
      ]
     },
     "execution_count": 40,
     "metadata": {},
     "output_type": "execute_result"
    }
   ],
   "source": [
    "#cleaning the column 'Number of engines' \n",
    "#checking the mean to fill the NaN values\n",
    "df_clean['Number.of.Engines'].mean()"
   ]
  },
  {
   "cell_type": "code",
   "execution_count": 41,
   "id": "3e9fe954",
   "metadata": {},
   "outputs": [],
   "source": [
    "#replacing NaN with mean 1 in the column 'Number of engines' \n",
    "df_clean['Number.of.Engines']=df_clean['Number.of.Engines'].fillna(1)"
   ]
  },
  {
   "cell_type": "code",
   "execution_count": 42,
   "id": "f12818a8",
   "metadata": {},
   "outputs": [
    {
     "data": {
      "text/plain": [
       "Reciprocating      29926\n",
       "Turbo Shaft         1868\n",
       "Turbo Prop          1858\n",
       "Turbo Fan            863\n",
       "Unknown              334\n",
       "Turbo Jet            237\n",
       "None                  16\n",
       "Electric               8\n",
       "NONE                   2\n",
       "UNK                    1\n",
       "LR                     1\n",
       "Geared Turbofan        1\n",
       "Hybrid Rocket          1\n",
       "Name: Engine.Type, dtype: int64"
      ]
     },
     "execution_count": 42,
     "metadata": {},
     "output_type": "execute_result"
    }
   ],
   "source": [
    "#cleaning the 'engine.type' column\n",
    "df_clean['Engine.Type'].value_counts()"
   ]
  },
  {
   "cell_type": "code",
   "execution_count": 43,
   "id": "da77f7fe",
   "metadata": {},
   "outputs": [],
   "source": [
    "#Will only keep the most common and turbo engines in the 'engine.type' column\n",
    "df_clean['Engine.Type']=df_clean['Engine.Type'].map(str)\n",
    "df_clean['Engine.Type']=df_clean['Engine.Type'].apply(lambda x: x if x in ['Reciprocating', 'Turbo Shaft', 'Turbo Prop', 'Turbo Fan', 'Turbo Jet']else None)"
   ]
  },
  {
   "cell_type": "code",
   "execution_count": 44,
   "id": "44ad302f",
   "metadata": {},
   "outputs": [],
   "source": [
    "#dropping the NaN values of the 'engine.type' column\n",
    "df_clean=df_clean.dropna(subset=['Engine.Type'])"
   ]
  },
  {
   "cell_type": "code",
   "execution_count": 45,
   "id": "e6a225e7",
   "metadata": {},
   "outputs": [
    {
     "data": {
      "text/plain": [
       "(34752, 17)"
      ]
     },
     "execution_count": 45,
     "metadata": {},
     "output_type": "execute_result"
    }
   ],
   "source": [
    "#checking the new size of the new subset\n",
    "#34,752 rows and 17 columns\n",
    "df_clean.shape"
   ]
  },
  {
   "cell_type": "code",
   "execution_count": 46,
   "id": "147366f4",
   "metadata": {},
   "outputs": [],
   "source": [
    "#creating a column with the total of all injuries: fatal, serious and minor\n",
    "df_clean['Total.Injuries']=df_clean['Total.Fatal.Injuries']+df_clean['Total.Serious.Injuries']+df_clean['Total.Minor.Injuries']"
   ]
  },
  {
   "cell_type": "code",
   "execution_count": 47,
   "id": "ea0bdf89",
   "metadata": {},
   "outputs": [],
   "source": [
    "#There are values: Fatal (10), Fatal (20), etc. \n",
    "#I will clean this column ' Injury severity' with only Fatal as the value, with no (#)\n",
    "df_clean['Injury.Severity']=df_clean['Injury.Severity'].str.strip().replace(r'^fatal.*', 'Fatal', regex=True)"
   ]
  },
  {
   "cell_type": "code",
   "execution_count": 48,
   "id": "3a708b06",
   "metadata": {
    "scrolled": true
   },
   "outputs": [
    {
     "data": {
      "text/plain": [
       "Non-Fatal      27835\n",
       "Fatal           3502\n",
       "Fatal(1)        1581\n",
       "Fatal(2)         943\n",
       "Incident         273\n",
       "Fatal(3)         260\n",
       "Fatal(4)         153\n",
       "Minor             70\n",
       "Fatal(5)          48\n",
       "Serious           27\n",
       "Fatal(6)          24\n",
       "Fatal(10)          6\n",
       "Fatal(7)           6\n",
       "Fatal(8)           3\n",
       "Fatal(20)          2\n",
       "Fatal(13)          2\n",
       "Fatal(92)          2\n",
       "Fatal(18)          1\n",
       "Fatal(60)          1\n",
       "Unavailable        1\n",
       "Fatal(49)          1\n",
       "Fatal(107)         1\n",
       "Fatal(21)          1\n",
       "Fatal(19)          1\n",
       "Fatal(65)          1\n",
       "Fatal(265)         1\n",
       "Fatal(113)         1\n",
       "Fatal(9)           1\n",
       "Fatal(11)          1\n",
       "Fatal(88)          1\n",
       "Fatal(217)         1\n",
       "Fatal(14)          1\n",
       "Name: Injury.Severity, dtype: int64"
      ]
     },
     "execution_count": 48,
     "metadata": {},
     "output_type": "execute_result"
    }
   ],
   "source": [
    "#checking the value counts in the column ' Injury severity'\n",
    "df_clean['Injury.Severity'].value_counts()"
   ]
  },
  {
   "cell_type": "code",
   "execution_count": 49,
   "id": "ea4744fc",
   "metadata": {},
   "outputs": [
    {
     "data": {
      "text/plain": [
       "1.0    30686\n",
       "2.0     3919\n",
       "4.0       77\n",
       "3.0       69\n",
       "0.0        1\n",
       "Name: Number.of.Engines, dtype: int64"
      ]
     },
     "execution_count": 49,
     "metadata": {},
     "output_type": "execute_result"
    }
   ],
   "source": [
    "#checking the value count in the 'Number.of.Engines' column\n",
    "df_clean['Number.of.Engines'].value_counts()"
   ]
  },
  {
   "cell_type": "code",
   "execution_count": 50,
   "id": "9e4def65",
   "metadata": {
    "scrolled": true
   },
   "outputs": [
    {
     "data": {
      "text/plain": [
       "Substantial    29389\n",
       "Destroyed       4638\n",
       "Minor            719\n",
       "Unknown            6\n",
       "Name: Aircraft.damage, dtype: int64"
      ]
     },
     "execution_count": 50,
     "metadata": {},
     "output_type": "execute_result"
    }
   ],
   "source": [
    "#checking values in the 'aircraft damage' column\n",
    "df_clean['Aircraft.damage'].value_counts()"
   ]
  },
  {
   "cell_type": "code",
   "execution_count": 51,
   "id": "64a6ef1d",
   "metadata": {},
   "outputs": [],
   "source": [
    "#Will drop the 'Unkown' values\n",
    "df_clean.drop(df_clean[df_clean['Aircraft.damage'] == 'Unknown'].index, inplace=True)"
   ]
  },
  {
   "cell_type": "code",
   "execution_count": 52,
   "id": "d248e2ab",
   "metadata": {},
   "outputs": [
    {
     "data": {
      "text/plain": [
       "Substantial    29389\n",
       "Destroyed       4638\n",
       "Minor            719\n",
       "Name: Aircraft.damage, dtype: int64"
      ]
     },
     "execution_count": 52,
     "metadata": {},
     "output_type": "execute_result"
    }
   ],
   "source": [
    "#aircraft damage column is clean\n",
    "df_clean['Aircraft.damage'].value_counts()"
   ]
  },
  {
   "cell_type": "code",
   "execution_count": 53,
   "id": "b208e34b",
   "metadata": {},
   "outputs": [
    {
     "data": {
      "text/plain": [
       "Event.Month               0\n",
       "Event.Year                0\n",
       "Location                  0\n",
       "Country                   0\n",
       "Make                      0\n",
       "Model                     0\n",
       "Purpose.of.flight         0\n",
       "Weather.Condition         0\n",
       "Aircraft.Category         0\n",
       "Aircraft.damage           0\n",
       "Injury.Severity           0\n",
       "Total.Fatal.Injuries      0\n",
       "Total.Serious.Injuries    0\n",
       "Total.Minor.Injuries      0\n",
       "Total.Uninjured           0\n",
       "Number.of.Engines         0\n",
       "Engine.Type               0\n",
       "Total.Injuries            0\n",
       "dtype: int64"
      ]
     },
     "execution_count": 53,
     "metadata": {},
     "output_type": "execute_result"
    }
   ],
   "source": [
    "#checking the clean data set\n",
    "df_clean.isna().sum()"
   ]
  },
  {
   "cell_type": "markdown",
   "id": "c4dfa7e1",
   "metadata": {},
   "source": [
    "Data set 'df_clean' is clean of NaN values."
   ]
  },
  {
   "cell_type": "markdown",
   "id": "4a5ee7e0",
   "metadata": {
    "scrolled": true
   },
   "source": [
    "# Data Analysis"
   ]
  },
  {
   "cell_type": "markdown",
   "id": "bd877c69",
   "metadata": {},
   "source": [
    "The goal of this project is for the company to get the safest aircraft to start a new type of businness.\n",
    "In order to get this list of the safest aircraft I would like to get a variable that will give me the output of that list of aircraft."
   ]
  },
  {
   "cell_type": "code",
   "execution_count": 54,
   "id": "228349b0",
   "metadata": {},
   "outputs": [
    {
     "data": {
      "text/html": [
       "<div>\n",
       "<style scoped>\n",
       "    .dataframe tbody tr th:only-of-type {\n",
       "        vertical-align: middle;\n",
       "    }\n",
       "\n",
       "    .dataframe tbody tr th {\n",
       "        vertical-align: top;\n",
       "    }\n",
       "\n",
       "    .dataframe thead th {\n",
       "        text-align: right;\n",
       "    }\n",
       "</style>\n",
       "<table border=\"1\" class=\"dataframe\">\n",
       "  <thead>\n",
       "    <tr style=\"text-align: right;\">\n",
       "      <th></th>\n",
       "      <th>Event.Month</th>\n",
       "      <th>Event.Year</th>\n",
       "      <th>Location</th>\n",
       "      <th>Country</th>\n",
       "      <th>Make</th>\n",
       "      <th>Model</th>\n",
       "      <th>Purpose.of.flight</th>\n",
       "      <th>Weather.Condition</th>\n",
       "      <th>Aircraft.Category</th>\n",
       "      <th>Aircraft.damage</th>\n",
       "      <th>Injury.Severity</th>\n",
       "      <th>Total.Fatal.Injuries</th>\n",
       "      <th>Total.Serious.Injuries</th>\n",
       "      <th>Total.Minor.Injuries</th>\n",
       "      <th>Total.Uninjured</th>\n",
       "      <th>Number.of.Engines</th>\n",
       "      <th>Engine.Type</th>\n",
       "      <th>Total.Injuries</th>\n",
       "    </tr>\n",
       "  </thead>\n",
       "  <tbody>\n",
       "    <tr>\n",
       "      <th>45466</th>\n",
       "      <td>1.0</td>\n",
       "      <td>1999.0</td>\n",
       "      <td>Minden, Nv</td>\n",
       "      <td>United States</td>\n",
       "      <td>Avions Max Holste</td>\n",
       "      <td>MH 1521 BROUSSARD</td>\n",
       "      <td>Personal</td>\n",
       "      <td>VMC</td>\n",
       "      <td>Airplane</td>\n",
       "      <td>Substantial</td>\n",
       "      <td>Non-Fatal</td>\n",
       "      <td>0.0</td>\n",
       "      <td>0.0</td>\n",
       "      <td>0.0</td>\n",
       "      <td>2.0</td>\n",
       "      <td>1.0</td>\n",
       "      <td>Reciprocating</td>\n",
       "      <td>0.0</td>\n",
       "    </tr>\n",
       "    <tr>\n",
       "      <th>45467</th>\n",
       "      <td>1.0</td>\n",
       "      <td>1999.0</td>\n",
       "      <td>Shelbyville, Tx</td>\n",
       "      <td>United States</td>\n",
       "      <td>Cessna</td>\n",
       "      <td>421C</td>\n",
       "      <td>Personal</td>\n",
       "      <td>VMC</td>\n",
       "      <td>Airplane</td>\n",
       "      <td>Substantial</td>\n",
       "      <td>Non-Fatal</td>\n",
       "      <td>0.0</td>\n",
       "      <td>0.0</td>\n",
       "      <td>4.0</td>\n",
       "      <td>1.0</td>\n",
       "      <td>2.0</td>\n",
       "      <td>Reciprocating</td>\n",
       "      <td>4.0</td>\n",
       "    </tr>\n",
       "    <tr>\n",
       "      <th>45468</th>\n",
       "      <td>1.0</td>\n",
       "      <td>1999.0</td>\n",
       "      <td>Hayward, Ca</td>\n",
       "      <td>United States</td>\n",
       "      <td>Piper</td>\n",
       "      <td>PA-22-108</td>\n",
       "      <td>Personal</td>\n",
       "      <td>VMC</td>\n",
       "      <td>Airplane</td>\n",
       "      <td>Destroyed</td>\n",
       "      <td>Non-Fatal</td>\n",
       "      <td>0.0</td>\n",
       "      <td>0.0</td>\n",
       "      <td>0.0</td>\n",
       "      <td>1.0</td>\n",
       "      <td>1.0</td>\n",
       "      <td>Reciprocating</td>\n",
       "      <td>0.0</td>\n",
       "    </tr>\n",
       "    <tr>\n",
       "      <th>45469</th>\n",
       "      <td>1.0</td>\n",
       "      <td>1999.0</td>\n",
       "      <td>Smackover, Ar</td>\n",
       "      <td>United States</td>\n",
       "      <td>Piper</td>\n",
       "      <td>PA-32-300R</td>\n",
       "      <td>Personal</td>\n",
       "      <td>IMC</td>\n",
       "      <td>Airplane</td>\n",
       "      <td>Destroyed</td>\n",
       "      <td>Fatal(1)</td>\n",
       "      <td>1.0</td>\n",
       "      <td>0.0</td>\n",
       "      <td>0.0</td>\n",
       "      <td>0.0</td>\n",
       "      <td>1.0</td>\n",
       "      <td>Reciprocating</td>\n",
       "      <td>1.0</td>\n",
       "    </tr>\n",
       "    <tr>\n",
       "      <th>45470</th>\n",
       "      <td>1.0</td>\n",
       "      <td>1999.0</td>\n",
       "      <td>Farmingdale, Ny</td>\n",
       "      <td>United States</td>\n",
       "      <td>Beech</td>\n",
       "      <td>C-24R</td>\n",
       "      <td>Personal</td>\n",
       "      <td>VMC</td>\n",
       "      <td>Airplane</td>\n",
       "      <td>Substantial</td>\n",
       "      <td>Non-Fatal</td>\n",
       "      <td>0.0</td>\n",
       "      <td>0.0</td>\n",
       "      <td>2.0</td>\n",
       "      <td>0.0</td>\n",
       "      <td>1.0</td>\n",
       "      <td>Reciprocating</td>\n",
       "      <td>2.0</td>\n",
       "    </tr>\n",
       "  </tbody>\n",
       "</table>\n",
       "</div>"
      ],
      "text/plain": [
       "       Event.Month  Event.Year         Location        Country  \\\n",
       "45466          1.0      1999.0       Minden, Nv  United States   \n",
       "45467          1.0      1999.0  Shelbyville, Tx  United States   \n",
       "45468          1.0      1999.0      Hayward, Ca  United States   \n",
       "45469          1.0      1999.0    Smackover, Ar  United States   \n",
       "45470          1.0      1999.0  Farmingdale, Ny  United States   \n",
       "\n",
       "                    Make              Model Purpose.of.flight  \\\n",
       "45466  Avions Max Holste  MH 1521 BROUSSARD          Personal   \n",
       "45467             Cessna               421C          Personal   \n",
       "45468              Piper          PA-22-108          Personal   \n",
       "45469              Piper         PA-32-300R          Personal   \n",
       "45470              Beech              C-24R          Personal   \n",
       "\n",
       "      Weather.Condition Aircraft.Category Aircraft.damage Injury.Severity  \\\n",
       "45466               VMC          Airplane     Substantial       Non-Fatal   \n",
       "45467               VMC          Airplane     Substantial       Non-Fatal   \n",
       "45468               VMC          Airplane       Destroyed       Non-Fatal   \n",
       "45469               IMC          Airplane       Destroyed        Fatal(1)   \n",
       "45470               VMC          Airplane     Substantial       Non-Fatal   \n",
       "\n",
       "       Total.Fatal.Injuries  Total.Serious.Injuries  Total.Minor.Injuries  \\\n",
       "45466                   0.0                     0.0                   0.0   \n",
       "45467                   0.0                     0.0                   4.0   \n",
       "45468                   0.0                     0.0                   0.0   \n",
       "45469                   1.0                     0.0                   0.0   \n",
       "45470                   0.0                     0.0                   2.0   \n",
       "\n",
       "       Total.Uninjured  Number.of.Engines    Engine.Type  Total.Injuries  \n",
       "45466              2.0                1.0  Reciprocating             0.0  \n",
       "45467              1.0                2.0  Reciprocating             4.0  \n",
       "45468              1.0                1.0  Reciprocating             0.0  \n",
       "45469              0.0                1.0  Reciprocating             1.0  \n",
       "45470              0.0                1.0  Reciprocating             2.0  "
      ]
     },
     "execution_count": 54,
     "metadata": {},
     "output_type": "execute_result"
    }
   ],
   "source": [
    "#starting the data analysis by checking the head of the data frame\n",
    "df_clean.head()"
   ]
  },
  {
   "cell_type": "markdown",
   "id": "91074e70",
   "metadata": {
    "heading_collapsed": true
   },
   "source": [
    "## Aircraft Damage by the Number of engines"
   ]
  },
  {
   "cell_type": "markdown",
   "id": "0cb202d6",
   "metadata": {
    "hidden": true
   },
   "source": [
    "First, I will analyze the aircraft damage based on how many engines the aircraft had."
   ]
  },
  {
   "cell_type": "code",
   "execution_count": 55,
   "id": "9f58bf2c",
   "metadata": {
    "hidden": true,
    "scrolled": true
   },
   "outputs": [
    {
     "data": {
      "text/html": [
       "<div>\n",
       "<style scoped>\n",
       "    .dataframe tbody tr th:only-of-type {\n",
       "        vertical-align: middle;\n",
       "    }\n",
       "\n",
       "    .dataframe tbody tr th {\n",
       "        vertical-align: top;\n",
       "    }\n",
       "\n",
       "    .dataframe thead tr th {\n",
       "        text-align: left;\n",
       "    }\n",
       "\n",
       "    .dataframe thead tr:last-of-type th {\n",
       "        text-align: right;\n",
       "    }\n",
       "</style>\n",
       "<table border=\"1\" class=\"dataframe\">\n",
       "  <thead>\n",
       "    <tr>\n",
       "      <th></th>\n",
       "      <th colspan=\"3\" halign=\"left\">Number.of.Engines</th>\n",
       "    </tr>\n",
       "    <tr>\n",
       "      <th></th>\n",
       "      <th>count</th>\n",
       "      <th>median</th>\n",
       "      <th>mean</th>\n",
       "    </tr>\n",
       "    <tr>\n",
       "      <th>Aircraft.damage</th>\n",
       "      <th></th>\n",
       "      <th></th>\n",
       "      <th></th>\n",
       "    </tr>\n",
       "  </thead>\n",
       "  <tbody>\n",
       "    <tr>\n",
       "      <th>Destroyed</th>\n",
       "      <td>4638</td>\n",
       "      <td>1.0</td>\n",
       "      <td>1.196421</td>\n",
       "    </tr>\n",
       "    <tr>\n",
       "      <th>Minor</th>\n",
       "      <td>719</td>\n",
       "      <td>2.0</td>\n",
       "      <td>1.744089</td>\n",
       "    </tr>\n",
       "    <tr>\n",
       "      <th>Substantial</th>\n",
       "      <td>29389</td>\n",
       "      <td>1.0</td>\n",
       "      <td>1.096601</td>\n",
       "    </tr>\n",
       "  </tbody>\n",
       "</table>\n",
       "</div>"
      ],
      "text/plain": [
       "                Number.of.Engines                 \n",
       "                            count median      mean\n",
       "Aircraft.damage                                   \n",
       "Destroyed                    4638    1.0  1.196421\n",
       "Minor                         719    2.0  1.744089\n",
       "Substantial                 29389    1.0  1.096601"
      ]
     },
     "execution_count": 55,
     "metadata": {},
     "output_type": "execute_result"
    }
   ],
   "source": [
    "#Analyzing the 'aircraft damage' given the 'number of engines'\n",
    "df_clean[['Aircraft.damage','Number.of.Engines']].groupby(['Aircraft.damage']).agg(['count', 'median', 'mean'])"
   ]
  },
  {
   "cell_type": "markdown",
   "id": "0cb13b49",
   "metadata": {
    "hidden": true
   },
   "source": [
    "Out of 4,638 Destroyed Aircraft, the median number of engines they had was 1 engine.\n",
    "Out of 29,389 Substantial damaged Aircraft, the median number of engines they had was 1 engine.\n",
    "Out of 719 Minor damaged Aircraft, the median number of engines they had were 2 engines.\n",
    "\n",
    "The most damaged aircrafts are the ones that only have 1 engine"
   ]
  },
  {
   "cell_type": "code",
   "execution_count": 56,
   "id": "261a77c7",
   "metadata": {
    "hidden": true
   },
   "outputs": [
    {
     "data": {
      "text/html": [
       "<div>\n",
       "<style scoped>\n",
       "    .dataframe tbody tr th:only-of-type {\n",
       "        vertical-align: middle;\n",
       "    }\n",
       "\n",
       "    .dataframe tbody tr th {\n",
       "        vertical-align: top;\n",
       "    }\n",
       "\n",
       "    .dataframe thead th {\n",
       "        text-align: right;\n",
       "    }\n",
       "</style>\n",
       "<table border=\"1\" class=\"dataframe\">\n",
       "  <thead>\n",
       "    <tr style=\"text-align: right;\">\n",
       "      <th>Number.of.Engines</th>\n",
       "      <th>0.0</th>\n",
       "      <th>1.0</th>\n",
       "      <th>2.0</th>\n",
       "      <th>3.0</th>\n",
       "      <th>4.0</th>\n",
       "    </tr>\n",
       "    <tr>\n",
       "      <th>Aircraft.damage</th>\n",
       "      <th></th>\n",
       "      <th></th>\n",
       "      <th></th>\n",
       "      <th></th>\n",
       "      <th></th>\n",
       "    </tr>\n",
       "  </thead>\n",
       "  <tbody>\n",
       "    <tr>\n",
       "      <th>Destroyed</th>\n",
       "      <td>0</td>\n",
       "      <td>3750</td>\n",
       "      <td>874</td>\n",
       "      <td>5</td>\n",
       "      <td>9</td>\n",
       "    </tr>\n",
       "    <tr>\n",
       "      <th>Minor</th>\n",
       "      <td>0</td>\n",
       "      <td>281</td>\n",
       "      <td>376</td>\n",
       "      <td>27</td>\n",
       "      <td>35</td>\n",
       "    </tr>\n",
       "    <tr>\n",
       "      <th>Substantial</th>\n",
       "      <td>1</td>\n",
       "      <td>26651</td>\n",
       "      <td>2667</td>\n",
       "      <td>37</td>\n",
       "      <td>33</td>\n",
       "    </tr>\n",
       "  </tbody>\n",
       "</table>\n",
       "</div>"
      ],
      "text/plain": [
       "Number.of.Engines  0.0    1.0   2.0  3.0  4.0\n",
       "Aircraft.damage                              \n",
       "Destroyed            0   3750   874    5    9\n",
       "Minor                0    281   376   27   35\n",
       "Substantial          1  26651  2667   37   33"
      ]
     },
     "execution_count": 56,
     "metadata": {},
     "output_type": "execute_result"
    }
   ],
   "source": [
    "#creating the variable 'damage_by_numb_of_engines' that will show the number of aircrafts that were damaged\n",
    "#based on the number of engines the aircraft had\n",
    "damage_by_numb_of_engines=pd.crosstab(df_clean['Aircraft.damage'], df_clean['Number.of.Engines'])\n",
    "damage_by_numb_of_engines"
   ]
  },
  {
   "cell_type": "markdown",
   "id": "132f4dd3",
   "metadata": {
    "hidden": true
   },
   "source": [
    "As seen below, when analyzing the variable 'damage_by_numb_of_engines' we can appreciate that there are less incidents when aircrafts posess more than 1 engine. \n",
    "The graph below can show the orange line which is 1 engine aircraft, having a peak of substantially damaged aircraft when in an accident."
   ]
  },
  {
   "cell_type": "code",
   "execution_count": 57,
   "id": "8ff7b3da",
   "metadata": {
    "hidden": true,
    "scrolled": false
   },
   "outputs": [
    {
     "data": {
      "text/plain": [
       "<AxesSubplot:xlabel='Aircraft.damage'>"
      ]
     },
     "execution_count": 57,
     "metadata": {},
     "output_type": "execute_result"
    },
    {
     "data": {
      "image/png": "[encoded data removed]",
      "text/plain": [
       "<Figure size 432x288 with 1 Axes>"
      ]
     },
     "metadata": {
      "needs_background": "light"
     },
     "output_type": "display_data"
    }
   ],
   "source": [
    "damage_by_numb_of_engines.plot()"
   ]
  },
  {
   "cell_type": "markdown",
   "id": "69598b14",
   "metadata": {},
   "source": [
    "## The amount of injuries based on the purpose of Flight"
   ]
  },
  {
   "cell_type": "markdown",
   "id": "e3dd9bba",
   "metadata": {},
   "source": [
    "The total injuries column in the dataset contains a sum of all injuries: fatal, serious and minor.\n",
    "I will analyze the amount of injuries that happened during accidents depending on the purpose of the flight."
   ]
  },
  {
   "cell_type": "code",
   "execution_count": 58,
   "id": "694624d3",
   "metadata": {
    "scrolled": true
   },
   "outputs": [
    {
     "data": {
      "text/html": [
       "<div>\n",
       "<style scoped>\n",
       "    .dataframe tbody tr th:only-of-type {\n",
       "        vertical-align: middle;\n",
       "    }\n",
       "\n",
       "    .dataframe tbody tr th {\n",
       "        vertical-align: top;\n",
       "    }\n",
       "\n",
       "    .dataframe thead tr th {\n",
       "        text-align: left;\n",
       "    }\n",
       "\n",
       "    .dataframe thead tr:last-of-type th {\n",
       "        text-align: right;\n",
       "    }\n",
       "</style>\n",
       "<table border=\"1\" class=\"dataframe\">\n",
       "  <thead>\n",
       "    <tr>\n",
       "      <th></th>\n",
       "      <th colspan=\"3\" halign=\"left\">Total.Injuries</th>\n",
       "    </tr>\n",
       "    <tr>\n",
       "      <th></th>\n",
       "      <th>count</th>\n",
       "      <th>median</th>\n",
       "      <th>mean</th>\n",
       "    </tr>\n",
       "    <tr>\n",
       "      <th>Purpose.of.flight</th>\n",
       "      <th></th>\n",
       "      <th></th>\n",
       "      <th></th>\n",
       "    </tr>\n",
       "  </thead>\n",
       "  <tbody>\n",
       "    <tr>\n",
       "      <th>Business</th>\n",
       "      <td>984</td>\n",
       "      <td>1.0</td>\n",
       "      <td>1.300813</td>\n",
       "    </tr>\n",
       "    <tr>\n",
       "      <th>Personal</th>\n",
       "      <td>33762</td>\n",
       "      <td>1.0</td>\n",
       "      <td>1.142349</td>\n",
       "    </tr>\n",
       "  </tbody>\n",
       "</table>\n",
       "</div>"
      ],
      "text/plain": [
       "                  Total.Injuries                 \n",
       "                           count median      mean\n",
       "Purpose.of.flight                                \n",
       "Business                     984    1.0  1.300813\n",
       "Personal                   33762    1.0  1.142349"
      ]
     },
     "execution_count": 58,
     "metadata": {},
     "output_type": "execute_result"
    }
   ],
   "source": [
    "#creating a data set to visualize statistical measures of the 'purpose of flight' by 'total injuries'\n",
    "df_clean[['Purpose.of.flight','Total.Injuries']].groupby(['Purpose.of.flight']).agg(['count', 'median', 'mean'])"
   ]
  },
  {
   "cell_type": "code",
   "execution_count": 59,
   "id": "dc7560e3",
   "metadata": {
    "scrolled": true
   },
   "outputs": [
    {
     "data": {
      "text/html": [
       "<div>\n",
       "<style scoped>\n",
       "    .dataframe tbody tr th:only-of-type {\n",
       "        vertical-align: middle;\n",
       "    }\n",
       "\n",
       "    .dataframe tbody tr th {\n",
       "        vertical-align: top;\n",
       "    }\n",
       "\n",
       "    .dataframe thead th {\n",
       "        text-align: right;\n",
       "    }\n",
       "</style>\n",
       "<table border=\"1\" class=\"dataframe\">\n",
       "  <thead>\n",
       "    <tr style=\"text-align: right;\">\n",
       "      <th>Aircraft.damage</th>\n",
       "      <th>Destroyed</th>\n",
       "      <th>Minor</th>\n",
       "      <th>Substantial</th>\n",
       "    </tr>\n",
       "    <tr>\n",
       "      <th>Purpose.of.flight</th>\n",
       "      <th></th>\n",
       "      <th></th>\n",
       "      <th></th>\n",
       "    </tr>\n",
       "  </thead>\n",
       "  <tbody>\n",
       "    <tr>\n",
       "      <th>Business</th>\n",
       "      <td>194</td>\n",
       "      <td>30</td>\n",
       "      <td>760</td>\n",
       "    </tr>\n",
       "    <tr>\n",
       "      <th>Personal</th>\n",
       "      <td>4444</td>\n",
       "      <td>689</td>\n",
       "      <td>28629</td>\n",
       "    </tr>\n",
       "  </tbody>\n",
       "</table>\n",
       "</div>"
      ],
      "text/plain": [
       "Aircraft.damage    Destroyed  Minor  Substantial\n",
       "Purpose.of.flight                               \n",
       "Business                 194     30          760\n",
       "Personal                4444    689        28629"
      ]
     },
     "execution_count": 59,
     "metadata": {},
     "output_type": "execute_result"
    }
   ],
   "source": [
    "#creating a crosstab of the 'level of damage on aircrafts' based on the 'purpose of the flight'.\n",
    "damage_by_purposeofflight=pd.crosstab(df_clean['Purpose.of.flight'], df_clean['Aircraft.damage'])\n",
    "damage_by_purposeofflight"
   ]
  },
  {
   "cell_type": "markdown",
   "id": "506916bb",
   "metadata": {},
   "source": []
  },
  {
   "cell_type": "code",
   "execution_count": 90,
   "id": "05f1f338",
   "metadata": {
    "scrolled": true
   },
   "outputs": [
    {
     "data": {
      "image/png": "[encoded data removed]",
      "text/plain": [
       "<Figure size 432x288 with 1 Axes>"
      ]
     },
     "metadata": {
      "needs_background": "light"
     },
     "output_type": "display_data"
    }
   ],
   "source": [
    "#graph of the count of aircrafts with their 'level of damage', based on the 'purpose of the flight'.\n",
    "sns.countplot(x='Purpose.of.flight', hue= 'Aircraft.damage', data=df_clean)\n",
    "plt.title(\"Aircraft Damage based on Purpose of Flight\")\n",
    "plt.xlabel(\"Purpose of Flight\") \n",
    "plt.ylabel(\"Count of Aircrafts with Damage\")\n",
    "plt.show()"
   ]
  },
  {
   "cell_type": "code",
   "execution_count": 91,
   "id": "f4e0d551",
   "metadata": {},
   "outputs": [],
   "source": [
    "# Saving the graph as an image\n",
    "plt.savefig('countplot.png', dpi=300)  \n",
    "\n",
    "# Closing the plot\n",
    "plt.close()"
   ]
  },
  {
   "cell_type": "code",
   "execution_count": 61,
   "id": "88da70e3",
   "metadata": {},
   "outputs": [
    {
     "data": {
      "text/html": [
       "<div>\n",
       "<style scoped>\n",
       "    .dataframe tbody tr th:only-of-type {\n",
       "        vertical-align: middle;\n",
       "    }\n",
       "\n",
       "    .dataframe tbody tr th {\n",
       "        vertical-align: top;\n",
       "    }\n",
       "\n",
       "    .dataframe thead tr th {\n",
       "        text-align: left;\n",
       "    }\n",
       "\n",
       "    .dataframe thead tr:last-of-type th {\n",
       "        text-align: right;\n",
       "    }\n",
       "</style>\n",
       "<table border=\"1\" class=\"dataframe\">\n",
       "  <thead>\n",
       "    <tr>\n",
       "      <th></th>\n",
       "      <th colspan=\"3\" halign=\"left\">Total.Injuries</th>\n",
       "    </tr>\n",
       "    <tr>\n",
       "      <th></th>\n",
       "      <th>count</th>\n",
       "      <th>median</th>\n",
       "      <th>mean</th>\n",
       "    </tr>\n",
       "    <tr>\n",
       "      <th>Purpose.of.flight</th>\n",
       "      <th></th>\n",
       "      <th></th>\n",
       "      <th></th>\n",
       "    </tr>\n",
       "  </thead>\n",
       "  <tbody>\n",
       "    <tr>\n",
       "      <th>Business</th>\n",
       "      <td>984</td>\n",
       "      <td>1.0</td>\n",
       "      <td>1.300813</td>\n",
       "    </tr>\n",
       "    <tr>\n",
       "      <th>Personal</th>\n",
       "      <td>33762</td>\n",
       "      <td>1.0</td>\n",
       "      <td>1.142349</td>\n",
       "    </tr>\n",
       "  </tbody>\n",
       "</table>\n",
       "</div>"
      ],
      "text/plain": [
       "                  Total.Injuries                 \n",
       "                           count median      mean\n",
       "Purpose.of.flight                                \n",
       "Business                     984    1.0  1.300813\n",
       "Personal                   33762    1.0  1.142349"
      ]
     },
     "execution_count": 61,
     "metadata": {},
     "output_type": "execute_result"
    }
   ],
   "source": [
    "#creating a data set to visualize statistical measures of the 'purpose of flight' by 'total injuries'\n",
    "df_clean[['Purpose.of.flight','Total.Injuries']].groupby(['Purpose.of.flight']).agg(['count', 'median', 'mean'])"
   ]
  },
  {
   "cell_type": "code",
   "execution_count": 62,
   "id": "dda16075",
   "metadata": {},
   "outputs": [
    {
     "data": {
      "text/html": [
       "<div>\n",
       "<style scoped>\n",
       "    .dataframe tbody tr th:only-of-type {\n",
       "        vertical-align: middle;\n",
       "    }\n",
       "\n",
       "    .dataframe tbody tr th {\n",
       "        vertical-align: top;\n",
       "    }\n",
       "\n",
       "    .dataframe thead th {\n",
       "        text-align: right;\n",
       "    }\n",
       "</style>\n",
       "<table border=\"1\" class=\"dataframe\">\n",
       "  <thead>\n",
       "    <tr style=\"text-align: right;\">\n",
       "      <th>Total.Injuries</th>\n",
       "      <th>0.0</th>\n",
       "      <th>1.0</th>\n",
       "      <th>2.0</th>\n",
       "      <th>3.0</th>\n",
       "      <th>4.0</th>\n",
       "      <th>5.0</th>\n",
       "      <th>6.0</th>\n",
       "      <th>7.0</th>\n",
       "      <th>8.0</th>\n",
       "      <th>9.0</th>\n",
       "      <th>...</th>\n",
       "      <th>96.0</th>\n",
       "      <th>104.0</th>\n",
       "      <th>110.0</th>\n",
       "      <th>113.0</th>\n",
       "      <th>121.0</th>\n",
       "      <th>134.0</th>\n",
       "      <th>157.0</th>\n",
       "      <th>190.0</th>\n",
       "      <th>217.0</th>\n",
       "      <th>265.0</th>\n",
       "    </tr>\n",
       "    <tr>\n",
       "      <th>Purpose.of.flight</th>\n",
       "      <th></th>\n",
       "      <th></th>\n",
       "      <th></th>\n",
       "      <th></th>\n",
       "      <th></th>\n",
       "      <th></th>\n",
       "      <th></th>\n",
       "      <th></th>\n",
       "      <th></th>\n",
       "      <th></th>\n",
       "      <th></th>\n",
       "      <th></th>\n",
       "      <th></th>\n",
       "      <th></th>\n",
       "      <th></th>\n",
       "      <th></th>\n",
       "      <th></th>\n",
       "      <th></th>\n",
       "      <th></th>\n",
       "      <th></th>\n",
       "      <th></th>\n",
       "    </tr>\n",
       "  </thead>\n",
       "  <tbody>\n",
       "    <tr>\n",
       "      <th>Business</th>\n",
       "      <td>314</td>\n",
       "      <td>360</td>\n",
       "      <td>158</td>\n",
       "      <td>70</td>\n",
       "      <td>48</td>\n",
       "      <td>20</td>\n",
       "      <td>8</td>\n",
       "      <td>2</td>\n",
       "      <td>1</td>\n",
       "      <td>1</td>\n",
       "      <td>...</td>\n",
       "      <td>0</td>\n",
       "      <td>0</td>\n",
       "      <td>0</td>\n",
       "      <td>0</td>\n",
       "      <td>0</td>\n",
       "      <td>0</td>\n",
       "      <td>0</td>\n",
       "      <td>0</td>\n",
       "      <td>0</td>\n",
       "      <td>0</td>\n",
       "    </tr>\n",
       "    <tr>\n",
       "      <th>Personal</th>\n",
       "      <td>12297</td>\n",
       "      <td>12858</td>\n",
       "      <td>5541</td>\n",
       "      <td>1787</td>\n",
       "      <td>731</td>\n",
       "      <td>242</td>\n",
       "      <td>102</td>\n",
       "      <td>55</td>\n",
       "      <td>25</td>\n",
       "      <td>24</td>\n",
       "      <td>...</td>\n",
       "      <td>1</td>\n",
       "      <td>1</td>\n",
       "      <td>1</td>\n",
       "      <td>2</td>\n",
       "      <td>1</td>\n",
       "      <td>1</td>\n",
       "      <td>1</td>\n",
       "      <td>1</td>\n",
       "      <td>1</td>\n",
       "      <td>1</td>\n",
       "    </tr>\n",
       "  </tbody>\n",
       "</table>\n",
       "<p>2 rows × 53 columns</p>\n",
       "</div>"
      ],
      "text/plain": [
       "Total.Injuries     0.0    1.0    2.0    3.0    4.0    5.0    6.0    7.0    \\\n",
       "Purpose.of.flight                                                           \n",
       "Business             314    360    158     70     48     20      8      2   \n",
       "Personal           12297  12858   5541   1787    731    242    102     55   \n",
       "\n",
       "Total.Injuries     8.0    9.0    ...  96.0   104.0  110.0  113.0  121.0  \\\n",
       "Purpose.of.flight                ...                                      \n",
       "Business               1      1  ...      0      0      0      0      0   \n",
       "Personal              25     24  ...      1      1      1      2      1   \n",
       "\n",
       "Total.Injuries     134.0  157.0  190.0  217.0  265.0  \n",
       "Purpose.of.flight                                     \n",
       "Business               0      0      0      0      0  \n",
       "Personal               1      1      1      1      1  \n",
       "\n",
       "[2 rows x 53 columns]"
      ]
     },
     "execution_count": 62,
     "metadata": {},
     "output_type": "execute_result"
    }
   ],
   "source": [
    "#crosstab of the 'number of total injuries' based on the 'purpose of flight'.\n",
    "injuries_by_purposeofflight=pd.crosstab(df_clean['Purpose.of.flight'], df_clean['Total.Injuries'])\n",
    "injuries_by_purposeofflight"
   ]
  },
  {
   "cell_type": "markdown",
   "id": "b4dee8b8",
   "metadata": {},
   "source": [
    "I can conclude that there are less injuries in business flights than in personal flights."
   ]
  },
  {
   "cell_type": "code",
   "execution_count": 88,
   "id": "c528db62",
   "metadata": {
    "scrolled": true
   },
   "outputs": [
    {
     "data": {
      "image/png": "[encoded data removed]",
      "text/plain": [
       "<Figure size 432x288 with 1 Axes>"
      ]
     },
     "metadata": {
      "needs_background": "light"
     },
     "output_type": "display_data"
    }
   ],
   "source": [
    "#boxplot will be used because one value is numerical and the other categorical.\n",
    "sns.boxplot(x=df_clean['Purpose.of.flight'], y=df_clean['Total.Injuries'], data=df_clean)\n",
    "plt.title(\"Total Injuries based on the Purpose of Flight\")\n",
    "plt.xlabel(\"Purpose of flight\") \n",
    "plt.ylabel(\"Total Injuries\")\n",
    "plt.show()\n"
   ]
  },
  {
   "cell_type": "code",
   "execution_count": 89,
   "id": "b9fa3074",
   "metadata": {},
   "outputs": [],
   "source": [
    "# Saving the graph as an image\n",
    "plt.savefig('boxplot.png', dpi=300)  \n",
    "\n",
    "# Closing the plot\n",
    "plt.close()"
   ]
  },
  {
   "cell_type": "markdown",
   "id": "128af1cc",
   "metadata": {},
   "source": [
    "To summarize there is more risk with Personal flights rather than flights for Bussiness such as commercial flights."
   ]
  },
  {
   "cell_type": "markdown",
   "id": "61e03f79",
   "metadata": {},
   "source": [
    "## Aircraft damage and Injuries based on the Month when accidents happened"
   ]
  },
  {
   "cell_type": "markdown",
   "id": "73d63bd8",
   "metadata": {},
   "source": [
    "Analyzing the most common month when accidents happen. To find the most hazardous month to flight, I will analyze the number of injuries and the damage on the aircraft."
   ]
  },
  {
   "cell_type": "code",
   "execution_count": 64,
   "id": "c3de348b",
   "metadata": {
    "scrolled": true
   },
   "outputs": [
    {
     "data": {
      "text/html": [
       "<div>\n",
       "<style scoped>\n",
       "    .dataframe tbody tr th:only-of-type {\n",
       "        vertical-align: middle;\n",
       "    }\n",
       "\n",
       "    .dataframe tbody tr th {\n",
       "        vertical-align: top;\n",
       "    }\n",
       "\n",
       "    .dataframe thead tr th {\n",
       "        text-align: left;\n",
       "    }\n",
       "\n",
       "    .dataframe thead tr:last-of-type th {\n",
       "        text-align: right;\n",
       "    }\n",
       "</style>\n",
       "<table border=\"1\" class=\"dataframe\">\n",
       "  <thead>\n",
       "    <tr>\n",
       "      <th></th>\n",
       "      <th colspan=\"3\" halign=\"left\">Total.Injuries</th>\n",
       "    </tr>\n",
       "    <tr>\n",
       "      <th></th>\n",
       "      <th>count</th>\n",
       "      <th>median</th>\n",
       "      <th>mean</th>\n",
       "    </tr>\n",
       "    <tr>\n",
       "      <th>Event.Month</th>\n",
       "      <th></th>\n",
       "      <th></th>\n",
       "      <th></th>\n",
       "    </tr>\n",
       "  </thead>\n",
       "  <tbody>\n",
       "    <tr>\n",
       "      <th>1.0</th>\n",
       "      <td>1925</td>\n",
       "      <td>1.0</td>\n",
       "      <td>1.200000</td>\n",
       "    </tr>\n",
       "    <tr>\n",
       "      <th>2.0</th>\n",
       "      <td>1993</td>\n",
       "      <td>1.0</td>\n",
       "      <td>1.154039</td>\n",
       "    </tr>\n",
       "    <tr>\n",
       "      <th>3.0</th>\n",
       "      <td>2592</td>\n",
       "      <td>1.0</td>\n",
       "      <td>1.033951</td>\n",
       "    </tr>\n",
       "    <tr>\n",
       "      <th>4.0</th>\n",
       "      <td>2846</td>\n",
       "      <td>1.0</td>\n",
       "      <td>1.042164</td>\n",
       "    </tr>\n",
       "    <tr>\n",
       "      <th>5.0</th>\n",
       "      <td>3426</td>\n",
       "      <td>1.0</td>\n",
       "      <td>1.165207</td>\n",
       "    </tr>\n",
       "    <tr>\n",
       "      <th>6.0</th>\n",
       "      <td>3910</td>\n",
       "      <td>1.0</td>\n",
       "      <td>1.053197</td>\n",
       "    </tr>\n",
       "    <tr>\n",
       "      <th>7.0</th>\n",
       "      <td>4312</td>\n",
       "      <td>1.0</td>\n",
       "      <td>1.178340</td>\n",
       "    </tr>\n",
       "    <tr>\n",
       "      <th>8.0</th>\n",
       "      <td>3942</td>\n",
       "      <td>1.0</td>\n",
       "      <td>1.187722</td>\n",
       "    </tr>\n",
       "    <tr>\n",
       "      <th>9.0</th>\n",
       "      <td>3277</td>\n",
       "      <td>1.0</td>\n",
       "      <td>1.092157</td>\n",
       "    </tr>\n",
       "    <tr>\n",
       "      <th>10.0</th>\n",
       "      <td>2641</td>\n",
       "      <td>1.0</td>\n",
       "      <td>1.202953</td>\n",
       "    </tr>\n",
       "    <tr>\n",
       "      <th>11.0</th>\n",
       "      <td>2025</td>\n",
       "      <td>1.0</td>\n",
       "      <td>1.296296</td>\n",
       "    </tr>\n",
       "    <tr>\n",
       "      <th>12.0</th>\n",
       "      <td>1857</td>\n",
       "      <td>1.0</td>\n",
       "      <td>1.259020</td>\n",
       "    </tr>\n",
       "  </tbody>\n",
       "</table>\n",
       "</div>"
      ],
      "text/plain": [
       "            Total.Injuries                 \n",
       "                     count median      mean\n",
       "Event.Month                                \n",
       "1.0                   1925    1.0  1.200000\n",
       "2.0                   1993    1.0  1.154039\n",
       "3.0                   2592    1.0  1.033951\n",
       "4.0                   2846    1.0  1.042164\n",
       "5.0                   3426    1.0  1.165207\n",
       "6.0                   3910    1.0  1.053197\n",
       "7.0                   4312    1.0  1.178340\n",
       "8.0                   3942    1.0  1.187722\n",
       "9.0                   3277    1.0  1.092157\n",
       "10.0                  2641    1.0  1.202953\n",
       "11.0                  2025    1.0  1.296296\n",
       "12.0                  1857    1.0  1.259020"
      ]
     },
     "execution_count": 64,
     "metadata": {},
     "output_type": "execute_result"
    }
   ],
   "source": [
    "#creating a data set to visualize statistical measures of the 'total injuries' by 'month of event'\n",
    "df_clean[['Event.Month','Total.Injuries']].groupby(['Event.Month']).agg(['count', 'median', 'mean'])"
   ]
  },
  {
   "cell_type": "markdown",
   "id": "edfebc5f",
   "metadata": {},
   "source": [
    "July is the month with the highest amount of injuries with a number if 4,3314 injuries. Around the month of July (June/August) there is also a high chance of risk for an accident to happen."
   ]
  },
  {
   "cell_type": "markdown",
   "id": "a916dba8",
   "metadata": {},
   "source": [
    "Creating a data set to visualize statistical measures of the 'purpose of flight' by 'total injuries'"
   ]
  },
  {
   "cell_type": "code",
   "execution_count": 65,
   "id": "a87fe2d2",
   "metadata": {},
   "outputs": [
    {
     "data": {
      "text/html": [
       "<div>\n",
       "<style scoped>\n",
       "    .dataframe tbody tr th:only-of-type {\n",
       "        vertical-align: middle;\n",
       "    }\n",
       "\n",
       "    .dataframe tbody tr th {\n",
       "        vertical-align: top;\n",
       "    }\n",
       "\n",
       "    .dataframe thead tr th {\n",
       "        text-align: left;\n",
       "    }\n",
       "\n",
       "    .dataframe thead tr:last-of-type th {\n",
       "        text-align: right;\n",
       "    }\n",
       "</style>\n",
       "<table border=\"1\" class=\"dataframe\">\n",
       "  <thead>\n",
       "    <tr>\n",
       "      <th></th>\n",
       "      <th colspan=\"3\" halign=\"left\">Event.Month</th>\n",
       "    </tr>\n",
       "    <tr>\n",
       "      <th></th>\n",
       "      <th>count</th>\n",
       "      <th>median</th>\n",
       "      <th>mean</th>\n",
       "    </tr>\n",
       "    <tr>\n",
       "      <th>Aircraft.damage</th>\n",
       "      <th></th>\n",
       "      <th></th>\n",
       "      <th></th>\n",
       "    </tr>\n",
       "  </thead>\n",
       "  <tbody>\n",
       "    <tr>\n",
       "      <th>Destroyed</th>\n",
       "      <td>4638</td>\n",
       "      <td>7.0</td>\n",
       "      <td>6.683053</td>\n",
       "    </tr>\n",
       "    <tr>\n",
       "      <th>Minor</th>\n",
       "      <td>719</td>\n",
       "      <td>6.0</td>\n",
       "      <td>6.464534</td>\n",
       "    </tr>\n",
       "    <tr>\n",
       "      <th>Substantial</th>\n",
       "      <td>29389</td>\n",
       "      <td>7.0</td>\n",
       "      <td>6.539828</td>\n",
       "    </tr>\n",
       "  </tbody>\n",
       "</table>\n",
       "</div>"
      ],
      "text/plain": [
       "                Event.Month                 \n",
       "                      count median      mean\n",
       "Aircraft.damage                             \n",
       "Destroyed              4638    7.0  6.683053\n",
       "Minor                   719    6.0  6.464534\n",
       "Substantial           29389    7.0  6.539828"
      ]
     },
     "execution_count": 65,
     "metadata": {},
     "output_type": "execute_result"
    }
   ],
   "source": [
    "#creating a data set to visualize statistical measures of the 'aircraft damage' by 'month of event'\n",
    "df_clean[['Aircraft.damage','Event.Month']].groupby(['Aircraft.damage']).agg(['count', 'median', 'mean'])"
   ]
  },
  {
   "cell_type": "markdown",
   "id": "6c60a00b",
   "metadata": {},
   "source": [
    "Destroyed and Substantial damage on aircraft is on July and months around it (June/August)."
   ]
  },
  {
   "cell_type": "code",
   "execution_count": 66,
   "id": "d9b9a4af",
   "metadata": {
    "scrolled": true
   },
   "outputs": [
    {
     "data": {
      "text/html": [
       "<div>\n",
       "<style scoped>\n",
       "    .dataframe tbody tr th:only-of-type {\n",
       "        vertical-align: middle;\n",
       "    }\n",
       "\n",
       "    .dataframe tbody tr th {\n",
       "        vertical-align: top;\n",
       "    }\n",
       "\n",
       "    .dataframe thead th {\n",
       "        text-align: right;\n",
       "    }\n",
       "</style>\n",
       "<table border=\"1\" class=\"dataframe\">\n",
       "  <thead>\n",
       "    <tr style=\"text-align: right;\">\n",
       "      <th>Event.Month</th>\n",
       "      <th>1.0</th>\n",
       "      <th>2.0</th>\n",
       "      <th>3.0</th>\n",
       "      <th>4.0</th>\n",
       "      <th>5.0</th>\n",
       "      <th>6.0</th>\n",
       "      <th>7.0</th>\n",
       "      <th>8.0</th>\n",
       "      <th>9.0</th>\n",
       "      <th>10.0</th>\n",
       "      <th>11.0</th>\n",
       "      <th>12.0</th>\n",
       "    </tr>\n",
       "    <tr>\n",
       "      <th>Aircraft.damage</th>\n",
       "      <th></th>\n",
       "      <th></th>\n",
       "      <th></th>\n",
       "      <th></th>\n",
       "      <th></th>\n",
       "      <th></th>\n",
       "      <th></th>\n",
       "      <th></th>\n",
       "      <th></th>\n",
       "      <th></th>\n",
       "      <th></th>\n",
       "      <th></th>\n",
       "    </tr>\n",
       "  </thead>\n",
       "  <tbody>\n",
       "    <tr>\n",
       "      <th>Destroyed</th>\n",
       "      <td>318</td>\n",
       "      <td>274</td>\n",
       "      <td>302</td>\n",
       "      <td>366</td>\n",
       "      <td>418</td>\n",
       "      <td>461</td>\n",
       "      <td>539</td>\n",
       "      <td>512</td>\n",
       "      <td>428</td>\n",
       "      <td>374</td>\n",
       "      <td>309</td>\n",
       "      <td>337</td>\n",
       "    </tr>\n",
       "    <tr>\n",
       "      <th>Minor</th>\n",
       "      <td>47</td>\n",
       "      <td>64</td>\n",
       "      <td>67</td>\n",
       "      <td>55</td>\n",
       "      <td>66</td>\n",
       "      <td>64</td>\n",
       "      <td>67</td>\n",
       "      <td>70</td>\n",
       "      <td>49</td>\n",
       "      <td>59</td>\n",
       "      <td>54</td>\n",
       "      <td>57</td>\n",
       "    </tr>\n",
       "    <tr>\n",
       "      <th>Substantial</th>\n",
       "      <td>1560</td>\n",
       "      <td>1655</td>\n",
       "      <td>2223</td>\n",
       "      <td>2425</td>\n",
       "      <td>2942</td>\n",
       "      <td>3385</td>\n",
       "      <td>3706</td>\n",
       "      <td>3360</td>\n",
       "      <td>2800</td>\n",
       "      <td>2208</td>\n",
       "      <td>1662</td>\n",
       "      <td>1463</td>\n",
       "    </tr>\n",
       "  </tbody>\n",
       "</table>\n",
       "</div>"
      ],
      "text/plain": [
       "Event.Month      1.0   2.0   3.0   4.0   5.0   6.0   7.0   8.0   9.0   10.0  \\\n",
       "Aircraft.damage                                                               \n",
       "Destroyed         318   274   302   366   418   461   539   512   428   374   \n",
       "Minor              47    64    67    55    66    64    67    70    49    59   \n",
       "Substantial      1560  1655  2223  2425  2942  3385  3706  3360  2800  2208   \n",
       "\n",
       "Event.Month      11.0  12.0  \n",
       "Aircraft.damage              \n",
       "Destroyed         309   337  \n",
       "Minor              54    57  \n",
       "Substantial      1662  1463  "
      ]
     },
     "execution_count": 66,
     "metadata": {},
     "output_type": "execute_result"
    }
   ],
   "source": [
    "#creating a dataset that will show the number of events and the damage the aircraft got per month\n",
    "damage_by_month_of_the_year=pd.crosstab(df_clean['Aircraft.damage'], df_clean['Event.Month'])\n",
    "damage_by_month_of_the_year"
   ]
  },
  {
   "cell_type": "code",
   "execution_count": 86,
   "id": "549367b2",
   "metadata": {
    "scrolled": true
   },
   "outputs": [
    {
     "data": {
      "image/png": "[encoded data removed]",
      "text/plain": [
       "<Figure size 864x432 with 2 Axes>"
      ]
     },
     "metadata": {
      "needs_background": "light"
     },
     "output_type": "display_data"
    }
   ],
   "source": [
    "#creating a heatmap to show the most hazardous month to travel\n",
    "plt.figure(figsize=(12,6)) \n",
    "sns.heatmap(damage_by_month_of_the_year, annot=True, cmap='YlGnBu')\n",
    "plt.title(\"Damage in Aircrafts by Month of the Year\")\n",
    "plt.xlabel(\"Month of Event\") \n",
    "plt.ylabel(\"Aircraft Damage Category\")\n",
    "plt.show();"
   ]
  },
  {
   "cell_type": "code",
   "execution_count": 87,
   "id": "868f21af",
   "metadata": {},
   "outputs": [],
   "source": [
    "# Saving the graph as an image\n",
    "plt.savefig('heatmap.png', dpi=300)  \n",
    "\n",
    "# Closing the plot\n",
    "plt.close()"
   ]
  },
  {
   "cell_type": "code",
   "execution_count": 68,
   "id": "35f44a38",
   "metadata": {},
   "outputs": [],
   "source": [
    "#creating a csv of the clean data set to use it in tableau\n",
    "df_clean.to_csv('aircraft_data_clean.csv', index=False)"
   ]
  },
  {
   "cell_type": "markdown",
   "id": "4466614a",
   "metadata": {},
   "source": [
    "As shown in the graph there is substantial damage in the aircrafts when flying around and in the month of July."
   ]
  },
  {
   "cell_type": "markdown",
   "id": "a3cacefa",
   "metadata": {
    "heading_collapsed": true
   },
   "source": [
    "## Final Analysis"
   ]
  },
  {
   "cell_type": "markdown",
   "id": "e92374b8",
   "metadata": {
    "hidden": true
   },
   "source": [
    "Based on the comprehensive analysis conducted, it is in the company's best interest to embark on a new business endeavor focused on commercial flights. \n",
    "The recommended fleet configuration includes airplanes equipped with two or more engines to enhance safety and performance. Additionally, prudent planning should involve minimizing travel during the months of June through August, aligning with the identified higher risk periods."
   ]
  },
  {
   "cell_type": "code",
   "execution_count": null,
   "id": "f0108ff5",
   "metadata": {
    "hidden": true,
    "scrolled": true
   },
   "outputs": [],
   "source": [
    "#Based on the conditions found before, I will look for the final recommendation\n",
    "#Using the conditions needed, the aircraft recommendation variable will return the result of the conditions\n",
    "aircraft_recommendation=df_clean[(df_clean['Number.of.Engines']>1)&(df_clean['Aircraft.damage']=='Minor')&(df_clean['Injury.Severity']=='Non-Fatal')]\n",
    "aircraft_recommendation['Make'].value_counts().head(3)"
   ]
  },
  {
   "cell_type": "code",
   "execution_count": null,
   "id": "9d0e9a92",
   "metadata": {
    "hidden": true
   },
   "outputs": [],
   "source": [
    "#Looking for the best type of engine to recommend\n",
    "aircraft_recommendation['Engine.Type'].value_counts().head(3)"
   ]
  },
  {
   "cell_type": "markdown",
   "id": "765044f9",
   "metadata": {
    "hidden": true
   },
   "source": [
    "The top three recommended aircraft manufacturers for purchase are Boeing, Airbus, and Cessna, each producing airplanes equipped with two or more turbo engines."
   ]
  },
  {
   "cell_type": "markdown",
   "id": "36446aec",
   "metadata": {
    "heading_collapsed": true
   },
   "source": [
    "# Conclusions"
   ]
  },
  {
   "cell_type": "markdown",
   "id": "451dc2fd",
   "metadata": {
    "hidden": true
   },
   "source": [
    "This analysis yields three key recommendations for the acquisition of airplanes in the context of the new business endeavor:\n",
    "\n",
    "-**Airplanes with Multiple Turbo Engines:**\n",
    "Opting for airplanes equipped with multiple turbo engines is advisable due to their ability to generate enhanced power, resulting in increased speed and safety. For business purposes, the advantage of multiple engines becomes evident during longer trips. Turbo engines not only contribute to improved performance, providing extra power, but also offer greater fuel efficiency.\n",
    "\n",
    "-**Airplanes for Commercial Purposes:**\n",
    "The data underscores the lower risks and accident rates associated with commercial airplanes. The affordability of commercial flights extends their reach to a broader audience, consequently enhancing profitability. Choosing airplanes designed for commercial use aligns with a prudent risk management strategy.\n",
    "\n",
    "-**Optimal Months for Reduced Flights:**\n",
    "The examined data reveals that the months of June, July, and August pose higher risks for flights, particularly in the Central areas of the US, such as the Midwest, Southwest, and West regions. Consideration of this information suggests that strategically reducing flights during these months can contribute to overall risk mitigation."
   ]
  }
 ],
 "metadata": {
  "kernelspec": {
   "display_name": "Python (learn-env)",
   "language": "python",
   "name": "learn-env"
  },
  "language_info": {
   "codemirror_mode": {
    "name": "ipython",
    "version": 3
   },
   "file_extension": ".py",
   "mimetype": "text/x-python",
   "name": "python",
   "nbconvert_exporter": "python",
   "pygments_lexer": "ipython3",
   "version": "3.8.5"
  }
 },
 "nbformat": 4,
 "nbformat_minor": 5
}
